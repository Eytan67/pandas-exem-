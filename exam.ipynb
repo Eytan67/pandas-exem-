{
 "cells": [
  {
   "metadata": {},
   "cell_type": "code",
   "outputs": [],
   "execution_count": null,
   "source": "",
   "id": "6a9e9f5945c1b169"
  },
  {
   "metadata": {},
   "cell_type": "markdown",
   "source": [
    "# Exercise: Exploratory Data Analysis with Pandas\n",
    "## Instructions\n",
    "1. Data Collection\n",
    "    - Search and collect data on the following: (1993 - 2023)\n",
    "        - Israel interest tares\n",
    "        - US interest rates\n",
    "        - USD to ILS exchange rates\n",
    "    - For each dataset, create a pandas DataFrame with the following columns:\n",
    "        - Year\n",
    "        - Month\n",
    "        - Current_Rate (Interest rate or exchange rate for that month)\n",
    "        - Change_From_Last_Month (Difference in Current_Rate from the previous month)\n",
    "        - Optional: You may include additional columns if you find them useful (e.g., Change_Percentage, Date).\n",
    "\n"
   ],
   "id": "2b8e938eb34b0315"
  },
  {
   "metadata": {
    "ExecuteTime": {
     "end_time": "2024-11-07T10:31:40.523132Z",
     "start_time": "2024-11-07T10:31:40.519442Z"
    }
   },
   "cell_type": "code",
   "source": [
    "import pandas as pd\n",
    "\n",
    "us_data_url = './data/US_interest_rates.csv'\n",
    "IL_data_url = './data/BR.csv'\n",
    "exchange_url = './data/EXR.csv'"
   ],
   "id": "17a7b132e53c5faa",
   "outputs": [],
   "execution_count": 209
  },
  {
   "metadata": {},
   "cell_type": "markdown",
   "source": " נביא את שתי המאגר מידע על הריבית לאותו פורמט",
   "id": "91217f2df2980e37"
  },
  {
   "metadata": {
    "ExecuteTime": {
     "end_time": "2024-11-07T10:10:56.635876Z",
     "start_time": "2024-11-07T10:10:56.597369Z"
    }
   },
   "cell_type": "code",
   "source": [
    "il_df = pd.read_csv(IL_data_url)\n",
    "il_df = il_df.loc[:, ['TIME_PERIOD', 'OBS_VALUE']]\n",
    "il_df = il_df.rename(columns={\"TIME_PERIOD\": \"date\", \"OBS_VALUE\": \"rate\"})\n",
    "il_df.head()"
   ],
   "id": "906a90770026dd59",
   "outputs": [
    {
     "data": {
      "text/plain": [
       "         date  rate\n",
       "0  1994-01-27  10.5\n",
       "1  1994-01-28  10.5\n",
       "2  1994-01-29  10.5\n",
       "3  1994-01-30  10.5\n",
       "4  1994-01-31  10.5"
      ],
      "text/html": [
       "<div>\n",
       "<style scoped>\n",
       "    .dataframe tbody tr th:only-of-type {\n",
       "        vertical-align: middle;\n",
       "    }\n",
       "\n",
       "    .dataframe tbody tr th {\n",
       "        vertical-align: top;\n",
       "    }\n",
       "\n",
       "    .dataframe thead th {\n",
       "        text-align: right;\n",
       "    }\n",
       "</style>\n",
       "<table border=\"1\" class=\"dataframe\">\n",
       "  <thead>\n",
       "    <tr style=\"text-align: right;\">\n",
       "      <th></th>\n",
       "      <th>date</th>\n",
       "      <th>rate</th>\n",
       "    </tr>\n",
       "  </thead>\n",
       "  <tbody>\n",
       "    <tr>\n",
       "      <th>0</th>\n",
       "      <td>1994-01-27</td>\n",
       "      <td>10.5</td>\n",
       "    </tr>\n",
       "    <tr>\n",
       "      <th>1</th>\n",
       "      <td>1994-01-28</td>\n",
       "      <td>10.5</td>\n",
       "    </tr>\n",
       "    <tr>\n",
       "      <th>2</th>\n",
       "      <td>1994-01-29</td>\n",
       "      <td>10.5</td>\n",
       "    </tr>\n",
       "    <tr>\n",
       "      <th>3</th>\n",
       "      <td>1994-01-30</td>\n",
       "      <td>10.5</td>\n",
       "    </tr>\n",
       "    <tr>\n",
       "      <th>4</th>\n",
       "      <td>1994-01-31</td>\n",
       "      <td>10.5</td>\n",
       "    </tr>\n",
       "  </tbody>\n",
       "</table>\n",
       "</div>"
      ]
     },
     "execution_count": 185,
     "metadata": {},
     "output_type": "execute_result"
    }
   ],
   "execution_count": 185
  },
  {
   "metadata": {
    "ExecuteTime": {
     "end_time": "2024-11-07T10:11:00.201175Z",
     "start_time": "2024-11-07T10:11:00.185947Z"
    }
   },
   "cell_type": "code",
   "source": [
    "us_df = pd.read_csv(us_data_url)\n",
    "us_df.head()"
   ],
   "id": "82afe4d6bdc842a5",
   "outputs": [
    {
     "data": {
      "text/plain": [
       "         date  rate\n",
       "0  1954-07-01  1.13\n",
       "1  1954-07-02  1.25\n",
       "2  1954-07-03  1.25\n",
       "3  1954-07-04  1.25\n",
       "4  1954-07-05  0.88"
      ],
      "text/html": [
       "<div>\n",
       "<style scoped>\n",
       "    .dataframe tbody tr th:only-of-type {\n",
       "        vertical-align: middle;\n",
       "    }\n",
       "\n",
       "    .dataframe tbody tr th {\n",
       "        vertical-align: top;\n",
       "    }\n",
       "\n",
       "    .dataframe thead th {\n",
       "        text-align: right;\n",
       "    }\n",
       "</style>\n",
       "<table border=\"1\" class=\"dataframe\">\n",
       "  <thead>\n",
       "    <tr style=\"text-align: right;\">\n",
       "      <th></th>\n",
       "      <th>date</th>\n",
       "      <th>rate</th>\n",
       "    </tr>\n",
       "  </thead>\n",
       "  <tbody>\n",
       "    <tr>\n",
       "      <th>0</th>\n",
       "      <td>1954-07-01</td>\n",
       "      <td>1.13</td>\n",
       "    </tr>\n",
       "    <tr>\n",
       "      <th>1</th>\n",
       "      <td>1954-07-02</td>\n",
       "      <td>1.25</td>\n",
       "    </tr>\n",
       "    <tr>\n",
       "      <th>2</th>\n",
       "      <td>1954-07-03</td>\n",
       "      <td>1.25</td>\n",
       "    </tr>\n",
       "    <tr>\n",
       "      <th>3</th>\n",
       "      <td>1954-07-04</td>\n",
       "      <td>1.25</td>\n",
       "    </tr>\n",
       "    <tr>\n",
       "      <th>4</th>\n",
       "      <td>1954-07-05</td>\n",
       "      <td>0.88</td>\n",
       "    </tr>\n",
       "  </tbody>\n",
       "</table>\n",
       "</div>"
      ]
     },
     "execution_count": 186,
     "metadata": {},
     "output_type": "execute_result"
    }
   ],
   "execution_count": 186
  },
  {
   "metadata": {
    "ExecuteTime": {
     "end_time": "2024-11-07T10:11:15.508735Z",
     "start_time": "2024-11-07T10:11:15.504634Z"
    }
   },
   "cell_type": "code",
   "source": [
    "def get_relevant_data(df):\n",
    "    df['date'] = pd.to_datetime(df['date'])\n",
    "    df = df.loc[(df['date'].dt.year > 1993) & (df['date'].dt.day == 1) & (df['date'].dt.year < 2024)]\n",
    "    return df"
   ],
   "id": "f413f9ab13db35db",
   "outputs": [],
   "execution_count": 187
  },
  {
   "metadata": {
    "ExecuteTime": {
     "end_time": "2024-11-07T10:11:16.829127Z",
     "start_time": "2024-11-07T10:11:16.825859Z"
    }
   },
   "cell_type": "code",
   "source": [
    "def calculate_change(current_rate):\n",
    "    Change_From_Last_Month = []\n",
    "    prv_rate = current_rate.iloc[0]\n",
    "    for rate in current_rate:\n",
    "        change = rate - prv_rate\n",
    "        Change_From_Last_Month.append(change)\n",
    "        prv_rate = rate\n",
    "    return Change_From_Last_Month"
   ],
   "id": "3a5ee064d25318f4",
   "outputs": [],
   "execution_count": 188
  },
  {
   "metadata": {
    "ExecuteTime": {
     "end_time": "2024-11-07T10:15:39.320268Z",
     "start_time": "2024-11-07T10:15:39.316889Z"
    }
   },
   "cell_type": "code",
   "source": [
    "def crate_new_df(df):\n",
    "    years = df['date'].dt.year  \n",
    "    months = df['date'].dt.month\n",
    "    current_rate = df.loc[ :,'rate']\n",
    "    Change_From_Last_Month = calculate_change(current_rate)\n",
    "    data = {\n",
    "    \"year\": years,\n",
    "    \"month\": months,\n",
    "    \"current_rate\": current_rate,\n",
    "    \"change_from_last_month\": Change_From_Last_Month\n",
    "    }\n",
    "    return pd.DataFrame(data)\n",
    "    "
   ],
   "id": "a6ece8a63dbd5bdd",
   "outputs": [],
   "execution_count": 194
  },
  {
   "metadata": {
    "ExecuteTime": {
     "end_time": "2024-11-07T10:17:00.416109Z",
     "start_time": "2024-11-07T10:17:00.390400Z"
    }
   },
   "cell_type": "code",
   "source": [
    "il_mew_df = crate_new_df(get_relevant_data(il_df))\n",
    "us_mew_df = crate_new_df(get_relevant_data(us_df))\n",
    "us_mew_df"
   ],
   "id": "e842f139a0ca51c0",
   "outputs": [
    {
     "data": {
      "text/plain": [
       "       year  month  current_rate  change_from_last_month\n",
       "14429  1994      1          2.85                    0.00\n",
       "14460  1994      2          3.25                    0.40\n",
       "14488  1994      3          3.31                    0.06\n",
       "14519  1994      4          3.64                    0.33\n",
       "14549  1994      5          3.73                    0.09\n",
       "...     ...    ...           ...                     ...\n",
       "24601  2023      6          5.08                    0.25\n",
       "24642  2023      8          5.33                    0.25\n",
       "24665  2023      9          5.33                    0.00\n",
       "24706  2023     11          5.33                    0.00\n",
       "24727  2023     12          5.33                    0.00\n",
       "\n",
       "[338 rows x 4 columns]"
      ],
      "text/html": [
       "<div>\n",
       "<style scoped>\n",
       "    .dataframe tbody tr th:only-of-type {\n",
       "        vertical-align: middle;\n",
       "    }\n",
       "\n",
       "    .dataframe tbody tr th {\n",
       "        vertical-align: top;\n",
       "    }\n",
       "\n",
       "    .dataframe thead th {\n",
       "        text-align: right;\n",
       "    }\n",
       "</style>\n",
       "<table border=\"1\" class=\"dataframe\">\n",
       "  <thead>\n",
       "    <tr style=\"text-align: right;\">\n",
       "      <th></th>\n",
       "      <th>year</th>\n",
       "      <th>month</th>\n",
       "      <th>current_rate</th>\n",
       "      <th>change_from_last_month</th>\n",
       "    </tr>\n",
       "  </thead>\n",
       "  <tbody>\n",
       "    <tr>\n",
       "      <th>14429</th>\n",
       "      <td>1994</td>\n",
       "      <td>1</td>\n",
       "      <td>2.85</td>\n",
       "      <td>0.00</td>\n",
       "    </tr>\n",
       "    <tr>\n",
       "      <th>14460</th>\n",
       "      <td>1994</td>\n",
       "      <td>2</td>\n",
       "      <td>3.25</td>\n",
       "      <td>0.40</td>\n",
       "    </tr>\n",
       "    <tr>\n",
       "      <th>14488</th>\n",
       "      <td>1994</td>\n",
       "      <td>3</td>\n",
       "      <td>3.31</td>\n",
       "      <td>0.06</td>\n",
       "    </tr>\n",
       "    <tr>\n",
       "      <th>14519</th>\n",
       "      <td>1994</td>\n",
       "      <td>4</td>\n",
       "      <td>3.64</td>\n",
       "      <td>0.33</td>\n",
       "    </tr>\n",
       "    <tr>\n",
       "      <th>14549</th>\n",
       "      <td>1994</td>\n",
       "      <td>5</td>\n",
       "      <td>3.73</td>\n",
       "      <td>0.09</td>\n",
       "    </tr>\n",
       "    <tr>\n",
       "      <th>...</th>\n",
       "      <td>...</td>\n",
       "      <td>...</td>\n",
       "      <td>...</td>\n",
       "      <td>...</td>\n",
       "    </tr>\n",
       "    <tr>\n",
       "      <th>24601</th>\n",
       "      <td>2023</td>\n",
       "      <td>6</td>\n",
       "      <td>5.08</td>\n",
       "      <td>0.25</td>\n",
       "    </tr>\n",
       "    <tr>\n",
       "      <th>24642</th>\n",
       "      <td>2023</td>\n",
       "      <td>8</td>\n",
       "      <td>5.33</td>\n",
       "      <td>0.25</td>\n",
       "    </tr>\n",
       "    <tr>\n",
       "      <th>24665</th>\n",
       "      <td>2023</td>\n",
       "      <td>9</td>\n",
       "      <td>5.33</td>\n",
       "      <td>0.00</td>\n",
       "    </tr>\n",
       "    <tr>\n",
       "      <th>24706</th>\n",
       "      <td>2023</td>\n",
       "      <td>11</td>\n",
       "      <td>5.33</td>\n",
       "      <td>0.00</td>\n",
       "    </tr>\n",
       "    <tr>\n",
       "      <th>24727</th>\n",
       "      <td>2023</td>\n",
       "      <td>12</td>\n",
       "      <td>5.33</td>\n",
       "      <td>0.00</td>\n",
       "    </tr>\n",
       "  </tbody>\n",
       "</table>\n",
       "<p>338 rows × 4 columns</p>\n",
       "</div>"
      ]
     },
     "execution_count": 198,
     "metadata": {},
     "output_type": "execute_result"
    }
   ],
   "execution_count": 198
  },
  {
   "metadata": {
    "ExecuteTime": {
     "end_time": "2024-11-07T10:35:31.865458Z",
     "start_time": "2024-11-07T10:35:31.827247Z"
    }
   },
   "cell_type": "code",
   "source": [
    "exchange_df = pd.read_csv(exchange_url)\n",
    "exchange_df = exchange_df.loc[:, ['TIME_PERIOD', 'OBS_VALUE']]\n",
    "exchange_df = exchange_df.rename(columns={\"TIME_PERIOD\": \"date\", \"OBS_VALUE\": \"rate\"})\n",
    "\n",
    "exchange_df.head()\n",
    "exchange_mew_df = crate_new_df(get_relevant_data(exchange_df))\n",
    "exchange_mew_df"
   ],
   "id": "ffbfd05fdd8290a3",
   "outputs": [
    {
     "data": {
      "text/plain": [
       "      year  month  current_rate  change_from_last_month\n",
       "26    1994      2         2.976                   0.000\n",
       "49    1994      3         2.965                  -0.011\n",
       "97    1994      5         3.000                   0.035\n",
       "123   1994      6         3.035                   0.035\n",
       "149   1994      7         3.035                   0.000\n",
       "...    ...    ...           ...                     ...\n",
       "7342  2023      6         3.736                   0.117\n",
       "7384  2023      8         3.653                  -0.083\n",
       "7407  2023      9         3.795                   0.142\n",
       "7448  2023     11         4.029                   0.234\n",
       "7470  2023     12         3.739                  -0.290\n",
       "\n",
       "[225 rows x 4 columns]"
      ],
      "text/html": [
       "<div>\n",
       "<style scoped>\n",
       "    .dataframe tbody tr th:only-of-type {\n",
       "        vertical-align: middle;\n",
       "    }\n",
       "\n",
       "    .dataframe tbody tr th {\n",
       "        vertical-align: top;\n",
       "    }\n",
       "\n",
       "    .dataframe thead th {\n",
       "        text-align: right;\n",
       "    }\n",
       "</style>\n",
       "<table border=\"1\" class=\"dataframe\">\n",
       "  <thead>\n",
       "    <tr style=\"text-align: right;\">\n",
       "      <th></th>\n",
       "      <th>year</th>\n",
       "      <th>month</th>\n",
       "      <th>current_rate</th>\n",
       "      <th>change_from_last_month</th>\n",
       "    </tr>\n",
       "  </thead>\n",
       "  <tbody>\n",
       "    <tr>\n",
       "      <th>26</th>\n",
       "      <td>1994</td>\n",
       "      <td>2</td>\n",
       "      <td>2.976</td>\n",
       "      <td>0.000</td>\n",
       "    </tr>\n",
       "    <tr>\n",
       "      <th>49</th>\n",
       "      <td>1994</td>\n",
       "      <td>3</td>\n",
       "      <td>2.965</td>\n",
       "      <td>-0.011</td>\n",
       "    </tr>\n",
       "    <tr>\n",
       "      <th>97</th>\n",
       "      <td>1994</td>\n",
       "      <td>5</td>\n",
       "      <td>3.000</td>\n",
       "      <td>0.035</td>\n",
       "    </tr>\n",
       "    <tr>\n",
       "      <th>123</th>\n",
       "      <td>1994</td>\n",
       "      <td>6</td>\n",
       "      <td>3.035</td>\n",
       "      <td>0.035</td>\n",
       "    </tr>\n",
       "    <tr>\n",
       "      <th>149</th>\n",
       "      <td>1994</td>\n",
       "      <td>7</td>\n",
       "      <td>3.035</td>\n",
       "      <td>0.000</td>\n",
       "    </tr>\n",
       "    <tr>\n",
       "      <th>...</th>\n",
       "      <td>...</td>\n",
       "      <td>...</td>\n",
       "      <td>...</td>\n",
       "      <td>...</td>\n",
       "    </tr>\n",
       "    <tr>\n",
       "      <th>7342</th>\n",
       "      <td>2023</td>\n",
       "      <td>6</td>\n",
       "      <td>3.736</td>\n",
       "      <td>0.117</td>\n",
       "    </tr>\n",
       "    <tr>\n",
       "      <th>7384</th>\n",
       "      <td>2023</td>\n",
       "      <td>8</td>\n",
       "      <td>3.653</td>\n",
       "      <td>-0.083</td>\n",
       "    </tr>\n",
       "    <tr>\n",
       "      <th>7407</th>\n",
       "      <td>2023</td>\n",
       "      <td>9</td>\n",
       "      <td>3.795</td>\n",
       "      <td>0.142</td>\n",
       "    </tr>\n",
       "    <tr>\n",
       "      <th>7448</th>\n",
       "      <td>2023</td>\n",
       "      <td>11</td>\n",
       "      <td>4.029</td>\n",
       "      <td>0.234</td>\n",
       "    </tr>\n",
       "    <tr>\n",
       "      <th>7470</th>\n",
       "      <td>2023</td>\n",
       "      <td>12</td>\n",
       "      <td>3.739</td>\n",
       "      <td>-0.290</td>\n",
       "    </tr>\n",
       "  </tbody>\n",
       "</table>\n",
       "<p>225 rows × 4 columns</p>\n",
       "</div>"
      ]
     },
     "execution_count": 214,
     "metadata": {},
     "output_type": "execute_result"
    }
   ],
   "execution_count": 214
  },
  {
   "metadata": {},
   "cell_type": "markdown",
   "source": [
    "## Part A: Single DataFrame Analysis \n",
    "1. Display the first 5 rows of the US interest rates DataFrame.\n",
    "\n",
    "2. Calculate the average Israeli interest rate over the period covered by your data.\n",
    "\n",
    "3. Find the month and year when the USD to ILS exchange rate had the highest increase from the previous month.\n",
    "\n",
    "4. Determine the total number of months where the US interest rate decreased compared to the previous month.\n",
    "\n",
    "5. Add a new column to the Israeli interest rates DataFrame called Change_Percentage, representing the percentage change from the previous month.\n",
    "\n"
   ],
   "id": "71323c7318598fbb"
  },
  {
   "metadata": {
    "ExecuteTime": {
     "end_time": "2024-11-07T10:18:21.401874Z",
     "start_time": "2024-11-07T10:18:21.398282Z"
    }
   },
   "cell_type": "code",
   "source": [
    "# A - 1\n",
    "# your code here\n",
    "us_mew_df.head()"
   ],
   "id": "399887d7fba8803a",
   "outputs": [],
   "execution_count": 200
  },
  {
   "metadata": {
    "ExecuteTime": {
     "end_time": "2024-11-07T10:19:55.882391Z",
     "start_time": "2024-11-07T10:19:55.877535Z"
    }
   },
   "cell_type": "code",
   "source": [
    "# A - 2\n",
    "# your code here\n",
    "average = il_mew_df['current_rate'].mean()\n",
    "average"
   ],
   "id": "91d022cc344514de",
   "outputs": [
    {
     "data": {
      "text/plain": [
       "4.879108635097493"
      ]
     },
     "execution_count": 205,
     "metadata": {},
     "output_type": "execute_result"
    }
   ],
   "execution_count": 205
  },
  {
   "metadata": {
    "ExecuteTime": {
     "end_time": "2024-11-07T10:36:38.469900Z",
     "start_time": "2024-11-07T10:36:38.465168Z"
    }
   },
   "cell_type": "code",
   "source": [
    "# A - 3\n",
    "# your code here\n",
    "highest_change = exchange_mew_df['change_from_last_month'].max()\n",
    "highest_change"
   ],
   "id": "c29c363cd4e9a279",
   "outputs": [
    {
     "data": {
      "text/plain": [
       "0.37200000000000033"
      ]
     },
     "execution_count": 215,
     "metadata": {},
     "output_type": "execute_result"
    }
   ],
   "execution_count": 215
  },
  {
   "metadata": {
    "ExecuteTime": {
     "end_time": "2024-11-07T10:40:14.483137Z",
     "start_time": "2024-11-07T10:40:14.477451Z"
    }
   },
   "cell_type": "code",
   "source": [
    "# A - 4\n",
    "# your code here\n",
    "total_decreased_months = (us_mew_df['change_from_last_month'] < 0).sum()\n",
    "total_decreased_months"
   ],
   "id": "c4c8ec122d04672",
   "outputs": [
    {
     "data": {
      "text/plain": [
       "140"
      ]
     },
     "execution_count": 219,
     "metadata": {},
     "output_type": "execute_result"
    }
   ],
   "execution_count": 219
  },
  {
   "metadata": {
    "ExecuteTime": {
     "end_time": "2024-11-07T11:02:11.931205Z",
     "start_time": "2024-11-07T11:02:11.922921Z"
    }
   },
   "cell_type": "code",
   "source": [
    "# A - 5\n",
    "# your code here\n",
    "def calculate_Change_Percentage(df):\n",
    "    changes = exchange_mew_df['current_rate']\n",
    "    Change_Percentage = []\n",
    "    prv_change = changes.iloc[0]\n",
    "    for c in changes:\n",
    "        if prv_change == 0:\n",
    "            prv_change = 0.001\n",
    "        change = (c*100)/prv_change\n",
    "        Change_Percentage.append(change)\n",
    "        prv_rate = c\n",
    "    return Change_Percentage\n",
    "\n",
    "Change_Percentage = calculate_Change_Percentage(exchange_mew_df)\n",
    "exchange_mew_df.insert(4, 'Change_Percentage', Change_Percentage)\n",
    "exchange_mew_df.head()"
   ],
   "id": "49115d5dbff52532",
   "outputs": [
    {
     "data": {
      "text/plain": [
       "     year  month  current_rate  change_from_last_month  Change_Percentage\n",
       "26   1994      2         2.976                   0.000         100.000000\n",
       "49   1994      3         2.965                  -0.011          99.630376\n",
       "97   1994      5         3.000                   0.035         100.806452\n",
       "123  1994      6         3.035                   0.035         101.982527\n",
       "149  1994      7         3.035                   0.000         101.982527"
      ],
      "text/html": [
       "<div>\n",
       "<style scoped>\n",
       "    .dataframe tbody tr th:only-of-type {\n",
       "        vertical-align: middle;\n",
       "    }\n",
       "\n",
       "    .dataframe tbody tr th {\n",
       "        vertical-align: top;\n",
       "    }\n",
       "\n",
       "    .dataframe thead th {\n",
       "        text-align: right;\n",
       "    }\n",
       "</style>\n",
       "<table border=\"1\" class=\"dataframe\">\n",
       "  <thead>\n",
       "    <tr style=\"text-align: right;\">\n",
       "      <th></th>\n",
       "      <th>year</th>\n",
       "      <th>month</th>\n",
       "      <th>current_rate</th>\n",
       "      <th>change_from_last_month</th>\n",
       "      <th>Change_Percentage</th>\n",
       "    </tr>\n",
       "  </thead>\n",
       "  <tbody>\n",
       "    <tr>\n",
       "      <th>26</th>\n",
       "      <td>1994</td>\n",
       "      <td>2</td>\n",
       "      <td>2.976</td>\n",
       "      <td>0.000</td>\n",
       "      <td>100.000000</td>\n",
       "    </tr>\n",
       "    <tr>\n",
       "      <th>49</th>\n",
       "      <td>1994</td>\n",
       "      <td>3</td>\n",
       "      <td>2.965</td>\n",
       "      <td>-0.011</td>\n",
       "      <td>99.630376</td>\n",
       "    </tr>\n",
       "    <tr>\n",
       "      <th>97</th>\n",
       "      <td>1994</td>\n",
       "      <td>5</td>\n",
       "      <td>3.000</td>\n",
       "      <td>0.035</td>\n",
       "      <td>100.806452</td>\n",
       "    </tr>\n",
       "    <tr>\n",
       "      <th>123</th>\n",
       "      <td>1994</td>\n",
       "      <td>6</td>\n",
       "      <td>3.035</td>\n",
       "      <td>0.035</td>\n",
       "      <td>101.982527</td>\n",
       "    </tr>\n",
       "    <tr>\n",
       "      <th>149</th>\n",
       "      <td>1994</td>\n",
       "      <td>7</td>\n",
       "      <td>3.035</td>\n",
       "      <td>0.000</td>\n",
       "      <td>101.982527</td>\n",
       "    </tr>\n",
       "  </tbody>\n",
       "</table>\n",
       "</div>"
      ]
     },
     "execution_count": 228,
     "metadata": {},
     "output_type": "execute_result"
    }
   ],
   "execution_count": 228
  },
  {
   "metadata": {},
   "cell_type": "markdown",
   "source": [
    "## Part B: Merging DataFrames\n",
    "1. Merge the US and Israeli interest rates DataFrames on Year and Month.\n",
    "\n",
    "2. In the merged DataFrame, create a new column Rate_Difference that shows the difference between the Israeli and US interest rates for each month.\n",
    "\n",
    "3. Identify all months when the Israeli interest rate was at least 1% higher than the US interest rate - IH (Israeli Higher).\n",
    "Identify all months when the US interest rate was at least 1% higher than the Israeli interest rate - UH (US Higher).\n",
    "Identify all months when the interest rates were within 1% of each other - N (Near)\n",
    "make a new column called Rate_Comparison with the following values: IH, UH, or N.\n",
    "\n",
    "4. Merge the exchange rate DataFrame with the merged interest rates DataFrame.\n",
    "\n",
    "5. After merging all three DataFrames, find the correlation between the Rate_Difference and the Current_Rate of the exchange rate.\n",
    "hint: find the connection between the difference in interest rates and the exchange rates, use any method you think is appropriate.\n",
    "provide an explanation of the results (in Hebrew) - at least 2 rows of text + a proof of the connection(some output) you found.\n"
   ],
   "id": "37324394ba9e1454"
  },
  {
   "metadata": {
    "ExecuteTime": {
     "end_time": "2024-11-07T00:06:02.968903Z",
     "start_time": "2024-11-07T00:06:02.967090Z"
    }
   },
   "cell_type": "code",
   "source": [
    "# B - 1\n",
    "# your code here"
   ],
   "id": "f6fcdba8d4d32d73",
   "outputs": [],
   "execution_count": 1
  },
  {
   "metadata": {
    "ExecuteTime": {
     "end_time": "2024-11-07T00:06:08.105790Z",
     "start_time": "2024-11-07T00:06:08.103620Z"
    }
   },
   "cell_type": "code",
   "source": [
    "# B - 2\n",
    "# your code here"
   ],
   "id": "7f18978fee56c6d6",
   "outputs": [],
   "execution_count": 2
  },
  {
   "metadata": {
    "ExecuteTime": {
     "end_time": "2024-11-07T00:06:10.259079Z",
     "start_time": "2024-11-07T00:06:10.257004Z"
    }
   },
   "cell_type": "code",
   "source": [
    "# B - 3\n",
    "# your code here"
   ],
   "id": "c6dcf835650149bf",
   "outputs": [],
   "execution_count": 3
  },
  {
   "metadata": {
    "ExecuteTime": {
     "end_time": "2024-11-07T00:06:12.381548Z",
     "start_time": "2024-11-07T00:06:12.379873Z"
    }
   },
   "cell_type": "code",
   "source": [
    "# B - 4\n",
    "# your code here"
   ],
   "id": "3145d351d7cbe982",
   "outputs": [],
   "execution_count": 4
  },
  {
   "metadata": {
    "ExecuteTime": {
     "end_time": "2024-11-07T00:06:37.878612Z",
     "start_time": "2024-11-07T00:06:37.876775Z"
    }
   },
   "cell_type": "code",
   "source": [
    "# B - 5\n",
    "# your code here"
   ],
   "id": "fe04eba74c68ab35",
   "outputs": [],
   "execution_count": 6
  },
  {
   "metadata": {},
   "cell_type": "code",
   "outputs": [],
   "execution_count": null,
   "source": "",
   "id": "48d876ac1bc8092"
  },
  {
   "metadata": {},
   "cell_type": "markdown",
   "source": [
    "## Part C: Analyzing Relationships Between DataFrames\n",
    "1. Analyze whether increases in US interest rates are associated with increases or decreases in the USD to ILS exchange rate in the same month.\n",
    "\n",
    "2. Determine if changes in the Israeli interest rate have a stronger impact on the exchange rate than changes in the US interest rate.\n",
    "\n",
    "3. Find any time lags in the effect of interest rate changes on the exchange rate. For example, does a change in US interest rates affect the exchange rate in the following month?\n",
    "(כלומר- האם כשיש שינוי בריבית כלשהי - האם מייד יש שינוי בשער ההמרה? או שיש דיליי של חודש/חודשים עד שמרגישים את ההשפעה - אם בכלל?)\n",
    "\n",
    "4. Calculate the rolling past 3-month average of the exchange rate for each data time, and add it as a new column.\n",
    "\n",
    "5. Identify any periods where both US and Israeli interest rates were decreasing, and analyze how the exchange rate behaved during those periods.\n",
    "\n"
   ],
   "id": "22213f81bdf06965"
  },
  {
   "metadata": {},
   "cell_type": "code",
   "outputs": [],
   "execution_count": null,
   "source": "# Bonus ",
   "id": "706a690fd803211c"
  },
  {
   "metadata": {},
   "cell_type": "markdown",
   "source": [
    "# Bonus\n",
    "choose 3 global / local events or periods that you think could have affected the exchange rate or interest rates\n",
    "and analyze the effect of these events on the data you collected.\n",
    "show proof of your analysis that supports your claim.\n",
    "\n",
    "(כלומר- תבחנו אירועים שקרו בתקופה שאתם עובדים עליה ובדקו איך הם השפיעו על הנתונים שאתם עובדים איתם)\n",
    "למשל: בחירות בארה״ב, בחירות בישראל, רוסיה אוקראינה, מלחמות בישראל וכו׳."
   ],
   "id": "8be22debf92d8f3a"
  },
  {
   "metadata": {},
   "cell_type": "code",
   "outputs": [],
   "execution_count": null,
   "source": "# Your code here",
   "id": "7cd992b43f3700e8"
  }
 ],
 "metadata": {
  "kernelspec": {
   "display_name": "Python 3",
   "language": "python",
   "name": "python3"
  },
  "language_info": {
   "codemirror_mode": {
    "name": "ipython",
    "version": 2
   },
   "file_extension": ".py",
   "mimetype": "text/x-python",
   "name": "python",
   "nbconvert_exporter": "python",
   "pygments_lexer": "ipython2",
   "version": "2.7.6"
  }
 },
 "nbformat": 4,
 "nbformat_minor": 5
}
